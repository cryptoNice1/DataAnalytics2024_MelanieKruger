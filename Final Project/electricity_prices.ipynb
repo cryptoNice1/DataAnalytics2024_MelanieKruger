{
 "cells": [
  {
   "cell_type": "code",
   "execution_count": 8,
   "metadata": {},
   "outputs": [],
   "source": [
    "import pandas as pd, os\n",
    "os.chdir(r\"C:\\Users\\Melanie\\OneDrive - Rensselaer Polytechnic Institute\\Desktop\\School\\24_Spring\\Data Analytics\\DA_Project\")\n",
    "\n",
    "EU_countries = \"Austria, Belgium, Bulgaria, Croatia, Cyprus, Czechia, Denmark, Estonia, Finland, France, Germany, Greece, Hungary, Ireland, Italy, Latvia, Lithuania, Luxembourg, Malta, Netherlands, Poland, Portugal, Romania, Slovakia, Slovenia, Spain, Sweden\".split(\", \")"
   ]
  },
  {
   "cell_type": "markdown",
   "metadata": {},
   "source": [
    "#### Change this spreadsheet into panel data type"
   ]
  },
  {
   "cell_type": "code",
   "execution_count": 68,
   "metadata": {},
   "outputs": [],
   "source": [
    "def panelify(col_name, sheet):\n",
    "    \"\"\"This takes a spreadsheet where each year is a column with values\n",
    "    and changes it into a panel data form\n",
    "    \n",
    "    Input:  col_name    - the name of the new column\n",
    "            sheet       - the dataframe itself\n",
    "    Output: new_sheet   - the column of values\n",
    "    \"\"\"\n",
    "    new_sheet = sheet.melt(id_vars = [\"Country\"], var_name = \"Year\",value_name = col_name)\n",
    "    new_sheet.sort_values(by = [\"Country\",\"Year\"],inplace=True)\n",
    "    return new_sheet\n",
    "\n",
    "def get_EU(file_name, sheet_name):\n",
    "    \"\"\"This gets just the segment of the dataframe belonging to the EU countries\n",
    "    \n",
    "    Input:  \n",
    "    Output: \"\"\"\n",
    "    edep = pd.read_excel(file_name,sheet_name, skiprows=8)\n",
    "\n",
    "    #change the name of the country column to \"Country\"\n",
    "    edep.columns = [\"Country\"] + list(edep.columns[1:])\n",
    "\n",
    "    #get only the EU countries and sort alphabetically\n",
    "    return edep[edep[\"Country\"].isin(EU_countries)].sort_values(by = [\"Country\"])"
   ]
  },
  {
   "cell_type": "code",
   "execution_count": 82,
   "metadata": {},
   "outputs": [],
   "source": [
    "sheet_names = [\"Solid Fossil Fuels\",\"Oil and Petroleum (no boifuel)\",\"Natural Gas\"]\n",
    "\n",
    "file_name = \"energy_import_dependency.xlsx\"\n",
    "sheet_names = [s + \" Dependency\" for s in sheet_names]"
   ]
  },
  {
   "cell_type": "code",
   "execution_count": null,
   "metadata": {},
   "outputs": [],
   "source": [
    "i = 0\n",
    "#get panel data of EU countries\n",
    "edep_EU = panelify(sheet_names[i], get_EU(file_name, \"Sheet {}\".format(i+2)))\n",
    "\n",
    "i = 1\n",
    "#change the format into panel data\n",
    "edep_EU_1 = panelify(sheet_names[i], get_EU(file_name, \"Sheet {}\".format(i+2)))\n",
    "\n",
    "edep_EU_merged = edep_EU.merge(edep_EU_1, on = [\"Country\",\"Year\"], how = \"outer\")\n",
    "\n",
    "i = 2\n",
    "#change the format into panel data\n",
    "edep_EU_2 = panelify(sheet_names[i], get_EU(file_name, \"Sheet {}\".format(i+2)))\n",
    "\n",
    "edep_EU_merged = edep_EU_merged.merge(edep_EU_2, on = [\"Country\",\"Year\"], how = \"outer\")\n",
    "\n",
    "edep_EU_merged.head()"
   ]
  },
  {
   "cell_type": "code",
   "execution_count": 84,
   "metadata": {},
   "outputs": [],
   "source": [
    "edep_EU_merged.to_csv(\"e_import_dependency.csv\")"
   ]
  },
  {
   "cell_type": "code",
   "execution_count": null,
   "metadata": {},
   "outputs": [],
   "source": []
  }
 ],
 "metadata": {
  "kernelspec": {
   "display_name": "base",
   "language": "python",
   "name": "python3"
  },
  "language_info": {
   "codemirror_mode": {
    "name": "ipython",
    "version": 3
   },
   "file_extension": ".py",
   "mimetype": "text/x-python",
   "name": "python",
   "nbconvert_exporter": "python",
   "pygments_lexer": "ipython3",
   "version": "3.12.3"
  }
 },
 "nbformat": 4,
 "nbformat_minor": 2
}
