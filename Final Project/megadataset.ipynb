{
 "cells": [
  {
   "cell_type": "code",
   "execution_count": 32,
   "metadata": {},
   "outputs": [],
   "source": [
    "import pandas as pd, os"
   ]
  },
  {
   "cell_type": "code",
   "execution_count": 33,
   "metadata": {},
   "outputs": [
    {
     "data": {
      "text/plain": [
       "['CHP_heatgen.csv',\n",
       " 'commercial_heatgen.csv',\n",
       " 'e_import_dependency.csv',\n",
       " 'grid_cap.csv',\n",
       " 'household_prices.csv',\n",
       " 'population.csv',\n",
       " 'pubinv.csv']"
      ]
     },
     "execution_count": 33,
     "metadata": {},
     "output_type": "execute_result"
    }
   ],
   "source": [
    "files = [f for f in os.listdir() if \".csv\" in f]\n",
    "files"
   ]
  },
  {
   "cell_type": "code",
   "execution_count": 36,
   "metadata": {},
   "outputs": [],
   "source": [
    "file = pd.read_csv(files[0])\n",
    "for i in range(1,len(files)):\n",
    "    new_file = pd.read_csv(files[i]).replace('Netherlands (Kingdom of the)', \"Netherlands\")\n",
    "    file = file.merge(new_file, on = [\"Country\",\"Year\"], how = \"outer\")"
   ]
  },
  {
   "cell_type": "code",
   "execution_count": 37,
   "metadata": {},
   "outputs": [],
   "source": [
    "file.to_csv(\"main.csv\")"
   ]
  },
  {
   "cell_type": "markdown",
   "metadata": {},
   "source": [
    "### OLD - adding stuff to column names cuz repeats"
   ]
  },
  {
   "cell_type": "code",
   "execution_count": 34,
   "metadata": {},
   "outputs": [
    {
     "name": "stdout",
     "output_type": "stream",
     "text": [
      "CHP_heatgen.csv\n",
      "Index(['Country', 'Year', 'Biogas CHP', 'Coal and peat CHP',\n",
      "       'Fossil fuels n.e.s. CHP', 'Geothermal energy CHP',\n",
      "       'Liquid biofuels CHP', 'Natural gas CHP', 'Nuclear CHP', 'Oil CHP',\n",
      "       'Other non-renewable energy CHP', 'Other renewable energy CHP',\n",
      "       'Renewable municipal waste CHP', 'Solar thermal energy CHP',\n",
      "       'Solid biofuels CHP'],\n",
      "      dtype='object')\n",
      "\n",
      "commercial_heatgen.csv\n",
      "Index(['Country', 'Year', 'Biogas comm', 'Coal and peat comm',\n",
      "       'Fossil fuels n.e.s. comm', 'Geothermal energy comm',\n",
      "       'Liquid biofuels comm', 'Natural gas comm', 'Nuclear comm', 'Oil comm',\n",
      "       'Other non-renewable energy comm', 'Other renewable energy comm',\n",
      "       'Renewable municipal waste comm', 'Solar thermal energy comm',\n",
      "       'Solid biofuels comm'],\n",
      "      dtype='object')\n",
      "\n",
      "e_import_dependency.csv\n",
      "Index(['Country', 'Year', 'Solid Fossil Fuels Dependency',\n",
      "       'Oil and Petroleum (no boifuel) Dependency', 'Natural Gas Dependency'],\n",
      "      dtype='object')\n",
      "\n",
      "grid_cap.csv\n",
      "Index(['Country', 'Year', 'Biogas Cap', 'Coal and peat Cap',\n",
      "       'Fossil fuels n.e.s. Cap', 'Geothermal energy Cap',\n",
      "       'Liquid biofuels Cap', 'Marine energy Cap', 'Mixed Hydro Plants Cap',\n",
      "       'Natural gas Cap', 'Nuclear Cap', 'Offshore wind energy Cap', 'Oil Cap',\n",
      "       'Onshore wind energy Cap', 'Other non-renewable energy Cap',\n",
      "       'Pumped storage Cap', 'Renewable hydropower Cap',\n",
      "       'Renewable municipal waste Cap', 'Solar photovoltaic Cap',\n",
      "       'Solar thermal energy Cap', 'Solid biofuels Cap'],\n",
      "      dtype='object')\n",
      "\n",
      "household_prices.csv\n",
      "Index(['Country', 'Year', 'Medium Household Electricity Prices (kW-hr)',\n",
      "       'Medium Household Gas Prices (gJ)'],\n",
      "      dtype='object')\n",
      "\n",
      "population.csv\n",
      "Index(['Country', 'Year', 'Population'], dtype='object')\n",
      "\n",
      "pubinv.csv\n",
      "Index(['Country', 'Year', 'Biogas Inv', 'Coal and peat Inv',\n",
      "       'Concentrated solar power Inv', 'Fossil fuels n.e.s. Inv',\n",
      "       'Geothermal energy Inv', 'Liquid biofuels Inv', 'Marine energy Inv',\n",
      "       'Multiple renewables* Inv', 'Natural gas Inv',\n",
      "       'Non-renewable municipal waste Inv', 'Nuclear Inv',\n",
      "       'Off-grid Solar photovoltaic Inv', 'Offshore wind energy Inv',\n",
      "       'Oil Inv', 'On-grid Solar photovoltaic Inv', 'Onshore wind energy Inv',\n",
      "       'Other primary solid biofuels n.e.s. Inv', 'Pumped storage Inv',\n",
      "       'Renewable hydropower Inv', 'Renewable municipal waste Inv',\n",
      "       'Solar thermal energy Inv'],\n",
      "      dtype='object')\n",
      "\n"
     ]
    }
   ],
   "source": [
    "for i in range(len(files)):\n",
    "    print(files[i])\n",
    "    print(pd.read_csv(files[i]).columns)\n",
    "    print()"
   ]
  },
  {
   "cell_type": "code",
   "execution_count": 24,
   "metadata": {},
   "outputs": [],
   "source": [
    "grid_cap = pd.read_csv(\"commercial_heatgen.csv\")\n",
    "grid_cap.columns = list(grid_cap.columns[:2]) + [\"{} comm\".format(l) for l in list(grid_cap.columns[2:])]\n",
    "\n",
    "grid_cap.to_csv(\"commercial_heatgen.csv\")"
   ]
  },
  {
   "cell_type": "code",
   "execution_count": 26,
   "metadata": {},
   "outputs": [],
   "source": [
    "grid_cap = pd.read_csv(\"CHP_heatgen.csv\")\n",
    "grid_cap.columns = list(grid_cap.columns[:2]) + [\"{} CHP\".format(l) for l in list(grid_cap.columns[2:])]\n",
    "\n",
    "grid_cap.to_csv(\"CHP_heatgen.csv\")"
   ]
  },
  {
   "cell_type": "code",
   "execution_count": 48,
   "metadata": {},
   "outputs": [],
   "source": [
    "grid_cap = pd.read_csv(\"grid_cap.csv\")\n",
    "grid_cap.columns = list(grid_cap.columns[:2]) + [\"{} Cap\".format(l) for l in list(grid_cap.columns[2:])]\n",
    "\n",
    "grid_cap.to_csv(\"grid_cap.csv\")"
   ]
  },
  {
   "cell_type": "code",
   "execution_count": 49,
   "metadata": {},
   "outputs": [],
   "source": [
    "pubinv = pd.read_csv(\"pubinv.csv\")\n",
    "pubinv.columns = list(pubinv.columns[:2]) +[\"{} Inv\".format(l) for l in list(pubinv.columns[2:])]\n",
    "pubinv.to_csv(\"pubinv.csv\")"
   ]
  },
  {
   "cell_type": "code",
   "execution_count": 23,
   "metadata": {},
   "outputs": [
    {
     "data": {
      "text/plain": [
       "'biogas, coal and peat, fossil fuels n.e.s., geothermal energy, liquid biofuels, marine energy, mixed hydro plants, natural gas, nuclear, offshore wind energy, oil, onshore wind energy, other non-renewable energy, pumped storage, renewable hydropower, renewable municipal waste, solar photovoltaic, solar thermal energy, solid biofuels, '"
      ]
     },
     "execution_count": 23,
     "metadata": {},
     "output_type": "execute_result"
    }
   ],
   "source": [
    "all_stuff = ['Biogas', 'Coal and peat', 'Fossil fuels n.e.s.',\n",
    "       'Geothermal energy', 'Liquid biofuels', 'Natural gas', 'Nuclear', 'Oil',\n",
    "       'Other non-renewable energy', 'Other renewable energy',\n",
    "       'Renewable municipal waste', 'Solar thermal energy', 'Solid biofuels']\n",
    "\n",
    "all_stuff = ['Biogas Cap', 'Coal and peat Cap',\n",
    "       'Fossil fuels n.e.s. Cap', 'Geothermal energy Cap',\n",
    "       'Liquid biofuels Cap', 'Marine energy Cap', 'Mixed Hydro Plants Cap',\n",
    "       'Natural gas Cap', 'Nuclear Cap', 'Offshore wind energy Cap', 'Oil Cap',\n",
    "       'Onshore wind energy Cap', 'Other non-renewable energy Cap',\n",
    "       'Pumped storage Cap', 'Renewable hydropower Cap',\n",
    "       'Renewable municipal waste Cap', 'Solar photovoltaic Cap',\n",
    "       'Solar thermal energy Cap', 'Solid biofuels Cap']\n",
    "\n",
    "# all_stuff = [s for s in all_stuff]\n",
    "ag = \"\"\n",
    "for a in all_stuff:\n",
    "    ag += \" \".join(a.split()[:-1]) + \", \"\n",
    "ag.lower()"
   ]
  }
 ],
 "metadata": {
  "kernelspec": {
   "display_name": "base",
   "language": "python",
   "name": "python3"
  },
  "language_info": {
   "codemirror_mode": {
    "name": "ipython",
    "version": 3
   },
   "file_extension": ".py",
   "mimetype": "text/x-python",
   "name": "python",
   "nbconvert_exporter": "python",
   "pygments_lexer": "ipython3",
   "version": "3.12.3"
  }
 },
 "nbformat": 4,
 "nbformat_minor": 2
}
