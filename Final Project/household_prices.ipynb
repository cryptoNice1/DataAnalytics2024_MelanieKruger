{
 "cells": [
  {
   "cell_type": "code",
   "execution_count": 3,
   "metadata": {},
   "outputs": [],
   "source": [
    "import pandas as pd, os\n",
    "os.chdir(r\"C:\\Users\\Melanie\\OneDrive - Rensselaer Polytechnic Institute\\Desktop\\School\\24_Spring\\Data Analytics\\DA_Project\")\n",
    "\n",
    "EU_countries = \"Austria, Belgium, Bulgaria, Croatia, Cyprus, Czechia, Denmark, Estonia, Finland, France, Germany, Greece, Hungary, Ireland, Italy, Latvia, Lithuania, Luxembourg, Malta, Netherlands, Poland, Portugal, Romania, Slovakia, Slovenia, Spain, Sweden\".split(\", \")"
   ]
  },
  {
   "cell_type": "code",
   "execution_count": 27,
   "metadata": {},
   "outputs": [],
   "source": [
    "def panelify(col_name, sheet):\n",
    "    \"\"\"This takes a spreadsheet where each year is a column with values\n",
    "    and changes it into a panel data form\n",
    "    \n",
    "    Input:  col_name    - the name of the new column\n",
    "            sheet       - the dataframe itself\n",
    "    Output: new_sheet   - the column of values\n",
    "    \"\"\"\n",
    "    new_sheet = sheet.melt(id_vars = [\"Country\"], var_name = \"Year\",value_name = col_name)\n",
    "    new_sheet.sort_values(by = [\"Country\",\"Year\"],inplace=True)\n",
    "    return new_sheet"
   ]
  },
  {
   "cell_type": "code",
   "execution_count": null,
   "metadata": {},
   "outputs": [],
   "source": [
    "file = pd.read_excel(\"electricity_prices.xlsx\",sheet_name = \"Sheet 1\",skiprows=10, usecols = \"A,B,D,F,H,J,L,N,P,R,T,V,X\")\n",
    "EU_file = file[file[\"TIME\"].isin(EU_countries)]\n",
    "EU_file.columns = [\"Country\"] + list(EU_file.columns[1:])\n",
    "elec_price = panelify(\"Medium Household Electricity Prices (kW-hr)\",EU_file)"
   ]
  },
  {
   "cell_type": "code",
   "execution_count": 38,
   "metadata": {},
   "outputs": [
    {
     "name": "stderr",
     "output_type": "stream",
     "text": [
      "c:\\Users\\Melanie\\miniconda3\\lib\\site-packages\\openpyxl\\styles\\stylesheet.py:226: UserWarning: Workbook contains no default style, apply openpyxl's default\n",
      "  warn(\"Workbook contains no default style, apply openpyxl's default\")\n"
     ]
    }
   ],
   "source": [
    "file = pd.read_excel(\"gas_prices.xlsx\",sheet_name = \"Sheet 1\",skiprows=10, usecols = \"A,B,D,F,H,J,L,N,P,R,T,V,X\")\n",
    "EU_file = file[file[\"TIME\"].isin(EU_countries)]\n",
    "EU_file.columns = [\"Country\"] + list(EU_file.columns[1:])\n",
    "new_EU_file = panelify(\"Medium Household Gas Prices (gJ)\",EU_file)"
   ]
  },
  {
   "cell_type": "code",
   "execution_count": 39,
   "metadata": {},
   "outputs": [],
   "source": [
    "new_file = elec_price.merge(new_EU_file, on = [\"Country\",\"Year\"], how = \"outer\")\n",
    "new_file.to_csv(\"household_prices.csv\")"
   ]
  }
 ],
 "metadata": {
  "kernelspec": {
   "display_name": "base",
   "language": "python",
   "name": "python3"
  },
  "language_info": {
   "codemirror_mode": {
    "name": "ipython",
    "version": 3
   },
   "file_extension": ".py",
   "mimetype": "text/x-python",
   "name": "python",
   "nbconvert_exporter": "python",
   "pygments_lexer": "ipython3",
   "version": "3.12.3"
  }
 },
 "nbformat": 4,
 "nbformat_minor": 2
}
