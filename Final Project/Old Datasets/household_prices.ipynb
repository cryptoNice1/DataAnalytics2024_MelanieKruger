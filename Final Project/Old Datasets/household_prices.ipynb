{
 "cells": [
  {
   "cell_type": "code",
   "execution_count": 3,
   "metadata": {},
   "outputs": [],
   "source": [
    "import pandas as pd, os\n",
    "os.chdir(r\"C:\\Users\\Melanie\\OneDrive - Rensselaer Polytechnic Institute\\Desktop\\School\\24_Spring\\Data Analytics\\DA_Project\")\n",
    "\n",
    "EU_countries = \"Austria, Belgium, Bulgaria, Croatia, Cyprus, Czechia, Denmark, Estonia, Finland, France, Germany, Greece, Hungary, Ireland, Italy, Latvia, Lithuania, Luxembourg, Malta, Netherlands, Poland, Portugal, Romania, Slovakia, Slovenia, Spain, Sweden\".split(\", \")"
   ]
  },
  {
   "cell_type": "code",
   "execution_count": 27,
   "metadata": {},
   "outputs": [],
   "source": [
    "def panelify(col_name, sheet):\n",
    "    \"\"\"This takes a spreadsheet where each year is a column with values\n",
    "    and changes it into a panel data form\n",
    "    \n",
    "    Input:  col_name    - the name of the new column\n",
    "            sheet       - the dataframe itself\n",
    "    Output: new_sheet   - the column of values\n",
    "    \"\"\"\n",
    "    new_sheet = sheet.melt(id_vars = [\"Country\"], var_name = \"Year\",value_name = col_name)\n",
    "    new_sheet.sort_values(by = [\"Country\",\"Year\"],inplace=True)\n",
    "    return new_sheet"
   ]
  },
  {
   "cell_type": "code",
   "execution_count": null,
   "metadata": {},
   "outputs": [],
   "source": [
    "file = pd.read_excel(\"electricity_prices.xlsx\",sheet_name = \"Sheet 1\",skiprows=10, usecols = \"A,B,D,F,H,J,L,N,P,R,T,V,X\")\n",
    "EU_file = file[file[\"TIME\"].isin(EU_countries)]\n",
    "EU_file.columns = [\"Country\"] + list(EU_file.columns[1:])\n",
    "elec_price = panelify(\"Medium Household Electricity Prices (kW-hr)\",EU_file)"
   ]
  },
  {
   "cell_type": "code",
   "execution_count": null,
   "metadata": {},
   "outputs": [],
   "source": [
    "file = pd.read_excel(\"electricity_prices.xlsx\",sheet_name = \"Sheet 1\",skiprows=10, usecols = \"A,B,D,F,H,J,L,N,P,R,T,V,X\")\n",
    "EU_file = file[file[\"TIME\"].isin(EU_countries)]\n",
    "EU_file.columns = [\"Country\"] + list(EU_file.columns[1:])\n",
    "new_EU_file = panelify(\"Medium Household Electricity Prices (kW-hr)\",EU_file)"
   ]
  }
 ],
 "metadata": {
  "kernelspec": {
   "display_name": "base",
   "language": "python",
   "name": "python3"
  },
  "language_info": {
   "codemirror_mode": {
    "name": "ipython",
    "version": 3
   },
   "file_extension": ".py",
   "mimetype": "text/x-python",
   "name": "python",
   "nbconvert_exporter": "python",
   "pygments_lexer": "ipython3",
   "version": "3.8.18"
  }
 },
 "nbformat": 4,
 "nbformat_minor": 2
}
